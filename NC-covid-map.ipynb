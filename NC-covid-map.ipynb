{
 "cells": [
  {
   "cell_type": "code",
   "execution_count": 1,
   "metadata": {},
   "outputs": [],
   "source": [
    "import pandas as pd"
   ]
  },
  {
   "cell_type": "code",
   "execution_count": 2,
   "metadata": {},
   "outputs": [],
   "source": [
    "import plotly.express as px\n",
    "import json"
   ]
  },
  {
   "cell_type": "code",
   "execution_count": 3,
   "metadata": {},
   "outputs": [],
   "source": [
    "with open('./NC_Counties.geojson') as f:\n",
    "    nc_counties = json.load(f)"
   ]
  },
  {
   "cell_type": "code",
   "execution_count": 19,
   "metadata": {},
   "outputs": [],
   "source": [
    "df = pd.read_csv('../covid-19-data/us-counties.csv', dtype={'fips': str})"
   ]
  },
  {
   "cell_type": "code",
   "execution_count": 40,
   "metadata": {},
   "outputs": [],
   "source": [
    "nc = df[df['state'] == 'North Carolina']"
   ]
  },
  {
   "cell_type": "code",
   "execution_count": 19,
   "metadata": {},
   "outputs": [
    {
     "name": "stderr",
     "output_type": "stream",
     "text": [
      "/Users/alexander.fioto/opt/anaconda3/lib/python3.7/site-packages/ipykernel_launcher.py:2: SettingWithCopyWarning:\n",
      "\n",
      "\n",
      "A value is trying to be set on a copy of a slice from a DataFrame.\n",
      "Try using .loc[row_indexer,col_indexer] = value instead\n",
      "\n",
      "See the caveats in the documentation: https://pandas.pydata.org/pandas-docs/stable/user_guide/indexing.html#returning-a-view-versus-a-copy\n",
      "\n"
     ]
    }
   ],
   "source": [
    "nc.head()\n",
    "nc['county'] = nc['county'].apply(lambda x: x.upper())"
   ]
  },
  {
   "cell_type": "code",
   "execution_count": 6,
   "metadata": {},
   "outputs": [
    {
     "data": {
      "text/html": [
       "<div>\n",
       "<style scoped>\n",
       "    .dataframe tbody tr th:only-of-type {\n",
       "        vertical-align: middle;\n",
       "    }\n",
       "\n",
       "    .dataframe tbody tr th {\n",
       "        vertical-align: top;\n",
       "    }\n",
       "\n",
       "    .dataframe thead th {\n",
       "        text-align: right;\n",
       "    }\n",
       "</style>\n",
       "<table border=\"1\" class=\"dataframe\">\n",
       "  <thead>\n",
       "    <tr style=\"text-align: right;\">\n",
       "      <th></th>\n",
       "      <th>date</th>\n",
       "      <th>county</th>\n",
       "      <th>state</th>\n",
       "      <th>fips</th>\n",
       "      <th>cases</th>\n",
       "      <th>deaths</th>\n",
       "    </tr>\n",
       "  </thead>\n",
       "  <tbody>\n",
       "    <tr>\n",
       "      <th>0</th>\n",
       "      <td>2020-01-21</td>\n",
       "      <td>Snohomish</td>\n",
       "      <td>Washington</td>\n",
       "      <td>53061.0</td>\n",
       "      <td>1</td>\n",
       "      <td>0</td>\n",
       "    </tr>\n",
       "    <tr>\n",
       "      <th>1</th>\n",
       "      <td>2020-01-22</td>\n",
       "      <td>Snohomish</td>\n",
       "      <td>Washington</td>\n",
       "      <td>53061.0</td>\n",
       "      <td>1</td>\n",
       "      <td>0</td>\n",
       "    </tr>\n",
       "    <tr>\n",
       "      <th>2</th>\n",
       "      <td>2020-01-23</td>\n",
       "      <td>Snohomish</td>\n",
       "      <td>Washington</td>\n",
       "      <td>53061.0</td>\n",
       "      <td>1</td>\n",
       "      <td>0</td>\n",
       "    </tr>\n",
       "    <tr>\n",
       "      <th>3</th>\n",
       "      <td>2020-01-24</td>\n",
       "      <td>Cook</td>\n",
       "      <td>Illinois</td>\n",
       "      <td>17031.0</td>\n",
       "      <td>1</td>\n",
       "      <td>0</td>\n",
       "    </tr>\n",
       "    <tr>\n",
       "      <th>4</th>\n",
       "      <td>2020-01-24</td>\n",
       "      <td>Snohomish</td>\n",
       "      <td>Washington</td>\n",
       "      <td>53061.0</td>\n",
       "      <td>1</td>\n",
       "      <td>0</td>\n",
       "    </tr>\n",
       "  </tbody>\n",
       "</table>\n",
       "</div>"
      ],
      "text/plain": [
       "         date     county       state     fips  cases  deaths\n",
       "0  2020-01-21  Snohomish  Washington  53061.0      1       0\n",
       "1  2020-01-22  Snohomish  Washington  53061.0      1       0\n",
       "2  2020-01-23  Snohomish  Washington  53061.0      1       0\n",
       "3  2020-01-24       Cook    Illinois  17031.0      1       0\n",
       "4  2020-01-24  Snohomish  Washington  53061.0      1       0"
      ]
     },
     "execution_count": 6,
     "metadata": {},
     "output_type": "execute_result"
    }
   ],
   "source": []
  },
  {
   "cell_type": "code",
   "execution_count": null,
   "metadata": {},
   "outputs": [],
   "source": []
  },
  {
   "cell_type": "code",
   "execution_count": 47,
   "metadata": {},
   "outputs": [
    {
     "data": {
      "text/html": [
       "<div>\n",
       "<style scoped>\n",
       "    .dataframe tbody tr th:only-of-type {\n",
       "        vertical-align: middle;\n",
       "    }\n",
       "\n",
       "    .dataframe tbody tr th {\n",
       "        vertical-align: top;\n",
       "    }\n",
       "\n",
       "    .dataframe thead th {\n",
       "        text-align: right;\n",
       "    }\n",
       "</style>\n",
       "<table border=\"1\" class=\"dataframe\">\n",
       "  <thead>\n",
       "    <tr style=\"text-align: right;\">\n",
       "      <th></th>\n",
       "      <th>date</th>\n",
       "      <th>county</th>\n",
       "      <th>state</th>\n",
       "      <th>fips</th>\n",
       "      <th>cases</th>\n",
       "      <th>deaths</th>\n",
       "    </tr>\n",
       "  </thead>\n",
       "  <tbody>\n",
       "    <tr>\n",
       "      <th>643336</th>\n",
       "      <td>2020-10-18</td>\n",
       "      <td>Alamance</td>\n",
       "      <td>North Carolina</td>\n",
       "      <td>37001</td>\n",
       "      <td>4790</td>\n",
       "      <td>66</td>\n",
       "    </tr>\n",
       "    <tr>\n",
       "      <th>643337</th>\n",
       "      <td>2020-10-18</td>\n",
       "      <td>Alexander</td>\n",
       "      <td>North Carolina</td>\n",
       "      <td>37003</td>\n",
       "      <td>698</td>\n",
       "      <td>9</td>\n",
       "    </tr>\n",
       "    <tr>\n",
       "      <th>643338</th>\n",
       "      <td>2020-10-18</td>\n",
       "      <td>Alleghany</td>\n",
       "      <td>North Carolina</td>\n",
       "      <td>37005</td>\n",
       "      <td>265</td>\n",
       "      <td>1</td>\n",
       "    </tr>\n",
       "    <tr>\n",
       "      <th>643339</th>\n",
       "      <td>2020-10-18</td>\n",
       "      <td>Anson</td>\n",
       "      <td>North Carolina</td>\n",
       "      <td>37007</td>\n",
       "      <td>694</td>\n",
       "      <td>8</td>\n",
       "    </tr>\n",
       "    <tr>\n",
       "      <th>643340</th>\n",
       "      <td>2020-10-18</td>\n",
       "      <td>Ashe</td>\n",
       "      <td>North Carolina</td>\n",
       "      <td>37009</td>\n",
       "      <td>366</td>\n",
       "      <td>1</td>\n",
       "    </tr>\n",
       "  </tbody>\n",
       "</table>\n",
       "</div>"
      ],
      "text/plain": [
       "              date     county           state   fips  cases  deaths\n",
       "643336  2020-10-18   Alamance  North Carolina  37001   4790      66\n",
       "643337  2020-10-18  Alexander  North Carolina  37003    698       9\n",
       "643338  2020-10-18  Alleghany  North Carolina  37005    265       1\n",
       "643339  2020-10-18      Anson  North Carolina  37007    694       8\n",
       "643340  2020-10-18       Ashe  North Carolina  37009    366       1"
      ]
     },
     "execution_count": 47,
     "metadata": {},
     "output_type": "execute_result"
    }
   ],
   "source": [
    "snapshot = nc[nc['date'] == '2020-10-18']\n",
    "snapshot.head()"
   ]
  },
  {
   "cell_type": "code",
   "execution_count": 48,
   "metadata": {},
   "outputs": [
    {
     "name": "stderr",
     "output_type": "stream",
     "text": [
      "/Users/alexander.fioto/opt/anaconda3/lib/python3.7/site-packages/ipykernel_launcher.py:1: SettingWithCopyWarning:\n",
      "\n",
      "\n",
      "A value is trying to be set on a copy of a slice from a DataFrame.\n",
      "Try using .loc[row_indexer,col_indexer] = value instead\n",
      "\n",
      "See the caveats in the documentation: https://pandas.pydata.org/pandas-docs/stable/user_guide/indexing.html#returning-a-view-versus-a-copy\n",
      "\n"
     ]
    }
   ],
   "source": [
    "snapshot['county'] = snapshot['county'].apply(lambda x: x.upper())"
   ]
  },
  {
   "cell_type": "code",
   "execution_count": 11,
   "metadata": {},
   "outputs": [
    {
     "data": {
      "text/html": [
       "<div>\n",
       "<style scoped>\n",
       "    .dataframe tbody tr th:only-of-type {\n",
       "        vertical-align: middle;\n",
       "    }\n",
       "\n",
       "    .dataframe tbody tr th {\n",
       "        vertical-align: top;\n",
       "    }\n",
       "\n",
       "    .dataframe thead th {\n",
       "        text-align: right;\n",
       "    }\n",
       "</style>\n",
       "<table border=\"1\" class=\"dataframe\">\n",
       "  <thead>\n",
       "    <tr style=\"text-align: right;\">\n",
       "      <th></th>\n",
       "      <th>date</th>\n",
       "      <th>county</th>\n",
       "      <th>state</th>\n",
       "      <th>fips</th>\n",
       "      <th>cases</th>\n",
       "      <th>deaths</th>\n",
       "    </tr>\n",
       "  </thead>\n",
       "  <tbody>\n",
       "    <tr>\n",
       "      <th>643336</th>\n",
       "      <td>2020-10-18</td>\n",
       "      <td>ALAMANCE</td>\n",
       "      <td>North Carolina</td>\n",
       "      <td>37001.0</td>\n",
       "      <td>4790</td>\n",
       "      <td>66</td>\n",
       "    </tr>\n",
       "    <tr>\n",
       "      <th>643337</th>\n",
       "      <td>2020-10-18</td>\n",
       "      <td>ALEXANDER</td>\n",
       "      <td>North Carolina</td>\n",
       "      <td>37003.0</td>\n",
       "      <td>698</td>\n",
       "      <td>9</td>\n",
       "    </tr>\n",
       "    <tr>\n",
       "      <th>643338</th>\n",
       "      <td>2020-10-18</td>\n",
       "      <td>ALLEGHANY</td>\n",
       "      <td>North Carolina</td>\n",
       "      <td>37005.0</td>\n",
       "      <td>265</td>\n",
       "      <td>1</td>\n",
       "    </tr>\n",
       "    <tr>\n",
       "      <th>643339</th>\n",
       "      <td>2020-10-18</td>\n",
       "      <td>ANSON</td>\n",
       "      <td>North Carolina</td>\n",
       "      <td>37007.0</td>\n",
       "      <td>694</td>\n",
       "      <td>8</td>\n",
       "    </tr>\n",
       "    <tr>\n",
       "      <th>643340</th>\n",
       "      <td>2020-10-18</td>\n",
       "      <td>ASHE</td>\n",
       "      <td>North Carolina</td>\n",
       "      <td>37009.0</td>\n",
       "      <td>366</td>\n",
       "      <td>1</td>\n",
       "    </tr>\n",
       "  </tbody>\n",
       "</table>\n",
       "</div>"
      ],
      "text/plain": [
       "              date     county           state     fips  cases  deaths\n",
       "643336  2020-10-18   ALAMANCE  North Carolina  37001.0   4790      66\n",
       "643337  2020-10-18  ALEXANDER  North Carolina  37003.0    698       9\n",
       "643338  2020-10-18  ALLEGHANY  North Carolina  37005.0    265       1\n",
       "643339  2020-10-18      ANSON  North Carolina  37007.0    694       8\n",
       "643340  2020-10-18       ASHE  North Carolina  37009.0    366       1"
      ]
     },
     "execution_count": 11,
     "metadata": {},
     "output_type": "execute_result"
    }
   ],
   "source": [
    "snapshot.head()"
   ]
  },
  {
   "cell_type": "code",
   "execution_count": null,
   "metadata": {},
   "outputs": [],
   "source": [
    "fig = px.choropleth(nc, \n",
    "                    geojson=nc_counties, \n",
    "                    locations='county',\n",
    "                    featureidkey='properties.CO_NAME',\n",
    "                    color='cases',\n",
    "                    projection='mercator',\n",
    "                    animation_frame='date'\n",
    "                   )\n",
    "fig.update_geos(fitbounds='locations', visible=False )\n",
    "fig.update_layout(margin={\"r\":0,\"t\":0,\"l\":0,\"b\":0})\n",
    "\n",
    "fig.show()"
   ]
  },
  {
   "cell_type": "code",
   "execution_count": 23,
   "metadata": {},
   "outputs": [],
   "source": [
    "def plot_nc_covid_map(date):\n",
    "    fig = px.choropleth(nc[nc['date'] == date], \n",
    "                    geojson=nc_counties, \n",
    "                    locations='county',\n",
    "                    featureidkey='properties.CO_NAME',\n",
    "                    color='cases',\n",
    "                    projection='mercator',\n",
    "                   )\n",
    "    fig.update_geos(fitbounds='locations', visible=False )\n",
    "    fig.update_layout(margin={\"r\":0,\"t\":0,\"l\":0,\"b\":0})\n",
    "\n",
    "    fig.show()\n",
    "    return fig"
   ]
  },
  {
   "cell_type": "code",
   "execution_count": null,
   "metadata": {},
   "outputs": [],
   "source": []
  },
  {
   "cell_type": "code",
   "execution_count": 29,
   "metadata": {},
   "outputs": [],
   "source": [
    "nc_map.write_html('nc_covid_map.html')"
   ]
  },
  {
   "cell_type": "code",
   "execution_count": null,
   "metadata": {},
   "outputs": [],
   "source": []
  },
  {
   "cell_type": "code",
   "execution_count": 10,
   "metadata": {},
   "outputs": [
    {
     "name": "stdout",
     "output_type": "stream",
     "text": [
      "<class 'pandas.core.frame.DataFrame'>\n",
      "RangeIndex: 745255 entries, 0 to 745254\n",
      "Data columns (total 6 columns):\n",
      " #   Column  Non-Null Count   Dtype  \n",
      "---  ------  --------------   -----  \n",
      " 0   date    745255 non-null  object \n",
      " 1   county  745255 non-null  object \n",
      " 2   state   745255 non-null  object \n",
      " 3   fips    738157 non-null  float64\n",
      " 4   cases   745255 non-null  int64  \n",
      " 5   deaths  745255 non-null  int64  \n",
      "dtypes: float64(1), int64(2), object(3)\n",
      "memory usage: 34.1+ MB\n"
     ]
    }
   ],
   "source": []
  },
  {
   "cell_type": "code",
   "execution_count": 7,
   "metadata": {},
   "outputs": [
    {
     "data": {
      "text/html": [
       "<div>\n",
       "<style scoped>\n",
       "    .dataframe tbody tr th:only-of-type {\n",
       "        vertical-align: middle;\n",
       "    }\n",
       "\n",
       "    .dataframe tbody tr th {\n",
       "        vertical-align: top;\n",
       "    }\n",
       "\n",
       "    .dataframe thead th {\n",
       "        text-align: right;\n",
       "    }\n",
       "</style>\n",
       "<table border=\"1\" class=\"dataframe\">\n",
       "  <thead>\n",
       "    <tr style=\"text-align: right;\">\n",
       "      <th></th>\n",
       "      <th>date</th>\n",
       "      <th>county</th>\n",
       "      <th>state</th>\n",
       "      <th>fips</th>\n",
       "      <th>cases</th>\n",
       "      <th>deaths</th>\n",
       "    </tr>\n",
       "  </thead>\n",
       "  <tbody>\n",
       "    <tr>\n",
       "      <th>0</th>\n",
       "      <td>2020-01-21</td>\n",
       "      <td>Snohomish</td>\n",
       "      <td>Washington</td>\n",
       "      <td>53061.0</td>\n",
       "      <td>1</td>\n",
       "      <td>0</td>\n",
       "    </tr>\n",
       "    <tr>\n",
       "      <th>1</th>\n",
       "      <td>2020-01-22</td>\n",
       "      <td>Snohomish</td>\n",
       "      <td>Washington</td>\n",
       "      <td>53061.0</td>\n",
       "      <td>1</td>\n",
       "      <td>0</td>\n",
       "    </tr>\n",
       "    <tr>\n",
       "      <th>2</th>\n",
       "      <td>2020-01-23</td>\n",
       "      <td>Snohomish</td>\n",
       "      <td>Washington</td>\n",
       "      <td>53061.0</td>\n",
       "      <td>1</td>\n",
       "      <td>0</td>\n",
       "    </tr>\n",
       "    <tr>\n",
       "      <th>3</th>\n",
       "      <td>2020-01-24</td>\n",
       "      <td>Cook</td>\n",
       "      <td>Illinois</td>\n",
       "      <td>17031.0</td>\n",
       "      <td>1</td>\n",
       "      <td>0</td>\n",
       "    </tr>\n",
       "    <tr>\n",
       "      <th>4</th>\n",
       "      <td>2020-01-24</td>\n",
       "      <td>Snohomish</td>\n",
       "      <td>Washington</td>\n",
       "      <td>53061.0</td>\n",
       "      <td>1</td>\n",
       "      <td>0</td>\n",
       "    </tr>\n",
       "  </tbody>\n",
       "</table>\n",
       "</div>"
      ],
      "text/plain": [
       "         date     county       state     fips  cases  deaths\n",
       "0  2020-01-21  Snohomish  Washington  53061.0      1       0\n",
       "1  2020-01-22  Snohomish  Washington  53061.0      1       0\n",
       "2  2020-01-23  Snohomish  Washington  53061.0      1       0\n",
       "3  2020-01-24       Cook    Illinois  17031.0      1       0\n",
       "4  2020-01-24  Snohomish  Washington  53061.0      1       0"
      ]
     },
     "execution_count": 7,
     "metadata": {},
     "output_type": "execute_result"
    }
   ],
   "source": [
    "df.head()"
   ]
  },
  {
   "cell_type": "code",
   "execution_count": 14,
   "metadata": {},
   "outputs": [],
   "source": [
    "import plotly.express as px\n",
    "from urllib.request import urlopen\n",
    "import json\n",
    "with urlopen('https://raw.githubusercontent.com/plotly/datasets/master/geojson-counties-fips.json') as response:\n",
    "    counties = json.load(response)"
   ]
  },
  {
   "cell_type": "code",
   "execution_count": 15,
   "metadata": {},
   "outputs": [],
   "source": [
    "ex_df = pd.read_csv(\"https://raw.githubusercontent.com/plotly/datasets/master/fips-unemp-16.csv\",\n",
    "                   dtype={\"fips\": str})"
   ]
  },
  {
   "cell_type": "code",
   "execution_count": 27,
   "metadata": {},
   "outputs": [
    {
     "data": {
      "text/plain": [
       "3219"
      ]
     },
     "execution_count": 27,
     "metadata": {},
     "output_type": "execute_result"
    }
   ],
   "source": [
    "len(ex_df)"
   ]
  },
  {
   "cell_type": "code",
   "execution_count": 29,
   "metadata": {},
   "outputs": [
    {
     "data": {
      "text/plain": [
       "3247"
      ]
     },
     "execution_count": 29,
     "metadata": {},
     "output_type": "execute_result"
    }
   ],
   "source": [
    "len(df[df['date'] == '2020-11-18'])"
   ]
  },
  {
   "cell_type": "code",
   "execution_count": null,
   "metadata": {},
   "outputs": [],
   "source": []
  },
  {
   "cell_type": "code",
   "execution_count": 22,
   "metadata": {},
   "outputs": [
    {
     "data": {
      "text/html": [
       "<div>\n",
       "<style scoped>\n",
       "    .dataframe tbody tr th:only-of-type {\n",
       "        vertical-align: middle;\n",
       "    }\n",
       "\n",
       "    .dataframe tbody tr th {\n",
       "        vertical-align: top;\n",
       "    }\n",
       "\n",
       "    .dataframe thead th {\n",
       "        text-align: right;\n",
       "    }\n",
       "</style>\n",
       "<table border=\"1\" class=\"dataframe\">\n",
       "  <thead>\n",
       "    <tr style=\"text-align: right;\">\n",
       "      <th></th>\n",
       "      <th>date</th>\n",
       "      <th>county</th>\n",
       "      <th>state</th>\n",
       "      <th>fips</th>\n",
       "      <th>cases</th>\n",
       "      <th>deaths</th>\n",
       "    </tr>\n",
       "  </thead>\n",
       "  <tbody>\n",
       "    <tr>\n",
       "      <th>745250</th>\n",
       "      <td>2020-11-18</td>\n",
       "      <td>Sweetwater</td>\n",
       "      <td>Wyoming</td>\n",
       "      <td>56037</td>\n",
       "      <td>1224</td>\n",
       "      <td>4</td>\n",
       "    </tr>\n",
       "    <tr>\n",
       "      <th>745251</th>\n",
       "      <td>2020-11-18</td>\n",
       "      <td>Teton</td>\n",
       "      <td>Wyoming</td>\n",
       "      <td>56039</td>\n",
       "      <td>1271</td>\n",
       "      <td>2</td>\n",
       "    </tr>\n",
       "    <tr>\n",
       "      <th>745252</th>\n",
       "      <td>2020-11-18</td>\n",
       "      <td>Uinta</td>\n",
       "      <td>Wyoming</td>\n",
       "      <td>56041</td>\n",
       "      <td>835</td>\n",
       "      <td>4</td>\n",
       "    </tr>\n",
       "    <tr>\n",
       "      <th>745253</th>\n",
       "      <td>2020-11-18</td>\n",
       "      <td>Washakie</td>\n",
       "      <td>Wyoming</td>\n",
       "      <td>56043</td>\n",
       "      <td>262</td>\n",
       "      <td>7</td>\n",
       "    </tr>\n",
       "    <tr>\n",
       "      <th>745254</th>\n",
       "      <td>2020-11-18</td>\n",
       "      <td>Weston</td>\n",
       "      <td>Wyoming</td>\n",
       "      <td>56045</td>\n",
       "      <td>353</td>\n",
       "      <td>0</td>\n",
       "    </tr>\n",
       "  </tbody>\n",
       "</table>\n",
       "</div>"
      ],
      "text/plain": [
       "              date      county    state   fips  cases  deaths\n",
       "745250  2020-11-18  Sweetwater  Wyoming  56037   1224       4\n",
       "745251  2020-11-18       Teton  Wyoming  56039   1271       2\n",
       "745252  2020-11-18       Uinta  Wyoming  56041    835       4\n",
       "745253  2020-11-18    Washakie  Wyoming  56043    262       7\n",
       "745254  2020-11-18      Weston  Wyoming  56045    353       0"
      ]
     },
     "execution_count": 22,
     "metadata": {},
     "output_type": "execute_result"
    }
   ],
   "source": [
    "df.tail()"
   ]
  },
  {
   "cell_type": "code",
   "execution_count": 53,
   "metadata": {},
   "outputs": [
    {
     "data": {
      "text/html": [
       "<div>\n",
       "<style scoped>\n",
       "    .dataframe tbody tr th:only-of-type {\n",
       "        vertical-align: middle;\n",
       "    }\n",
       "\n",
       "    .dataframe tbody tr th {\n",
       "        vertical-align: top;\n",
       "    }\n",
       "\n",
       "    .dataframe thead th {\n",
       "        text-align: right;\n",
       "    }\n",
       "</style>\n",
       "<table border=\"1\" class=\"dataframe\">\n",
       "  <thead>\n",
       "    <tr style=\"text-align: right;\">\n",
       "      <th></th>\n",
       "      <th>date</th>\n",
       "      <th>county</th>\n",
       "      <th>state</th>\n",
       "      <th>fips</th>\n",
       "      <th>cases</th>\n",
       "      <th>deaths</th>\n",
       "    </tr>\n",
       "  </thead>\n",
       "  <tbody>\n",
       "    <tr>\n",
       "      <th>643336</th>\n",
       "      <td>2020-10-18</td>\n",
       "      <td>ALAMANCE</td>\n",
       "      <td>North Carolina</td>\n",
       "      <td>37001</td>\n",
       "      <td>4790</td>\n",
       "      <td>66</td>\n",
       "    </tr>\n",
       "    <tr>\n",
       "      <th>643337</th>\n",
       "      <td>2020-10-18</td>\n",
       "      <td>ALEXANDER</td>\n",
       "      <td>North Carolina</td>\n",
       "      <td>37003</td>\n",
       "      <td>698</td>\n",
       "      <td>9</td>\n",
       "    </tr>\n",
       "    <tr>\n",
       "      <th>643338</th>\n",
       "      <td>2020-10-18</td>\n",
       "      <td>ALLEGHANY</td>\n",
       "      <td>North Carolina</td>\n",
       "      <td>37005</td>\n",
       "      <td>265</td>\n",
       "      <td>1</td>\n",
       "    </tr>\n",
       "    <tr>\n",
       "      <th>643339</th>\n",
       "      <td>2020-10-18</td>\n",
       "      <td>ANSON</td>\n",
       "      <td>North Carolina</td>\n",
       "      <td>37007</td>\n",
       "      <td>694</td>\n",
       "      <td>8</td>\n",
       "    </tr>\n",
       "    <tr>\n",
       "      <th>643340</th>\n",
       "      <td>2020-10-18</td>\n",
       "      <td>ASHE</td>\n",
       "      <td>North Carolina</td>\n",
       "      <td>37009</td>\n",
       "      <td>366</td>\n",
       "      <td>1</td>\n",
       "    </tr>\n",
       "  </tbody>\n",
       "</table>\n",
       "</div>"
      ],
      "text/plain": [
       "              date     county           state   fips  cases  deaths\n",
       "643336  2020-10-18   ALAMANCE  North Carolina  37001   4790      66\n",
       "643337  2020-10-18  ALEXANDER  North Carolina  37003    698       9\n",
       "643338  2020-10-18  ALLEGHANY  North Carolina  37005    265       1\n",
       "643339  2020-10-18      ANSON  North Carolina  37007    694       8\n",
       "643340  2020-10-18       ASHE  North Carolina  37009    366       1"
      ]
     },
     "execution_count": 53,
     "metadata": {},
     "output_type": "execute_result"
    }
   ],
   "source": [
    "snapshot.head()"
   ]
  },
  {
   "cell_type": "code",
   "execution_count": 54,
   "metadata": {
    "collapsed": true,
    "jupyter": {
     "outputs_hidden": true
    }
   },
   "outputs": [
    {
     "data": {
      "text/plain": [
       "{'type': 'Feature',\n",
       " 'properties': {'Name': None,\n",
       "  'description': None,\n",
       "  'FID': 1,\n",
       "  'OBJECTID': 1.0,\n",
       "  'PERIMETER': 156472.984375,\n",
       "  'CO_NAME': 'ROCKINGHAM',\n",
       "  'CO_ABBR': 'ROCK',\n",
       "  'ACRES': 366053.0625,\n",
       "  'Shape_Leng': 513361.787377,\n",
       "  'RO': 'WSRO',\n",
       "  'SHAPE_Length': 1.60550890854708,\n",
       "  'SHAPE_Area': 15945261643.2},\n",
       " 'geometry': {'type': 'MultiPolygon',\n",
       "  'coordinates': [[[[-79.532470222, 36.241411973],\n",
       "     [-79.540582838, 36.241591613],\n",
       "     [-79.565884038, 36.242336063],\n",
       "     [-79.599803762, 36.243298128],\n",
       "     [-79.632993196, 36.24438694],\n",
       "     [-79.6724854409999, 36.2456354010001],\n",
       "     [-79.710311287, 36.2466177790001],\n",
       "     [-79.7464123399999, 36.247609998],\n",
       "     [-79.78859295, 36.249052201],\n",
       "     [-79.8107318799999, 36.2498137360001],\n",
       "     [-79.8381006069999, 36.2505711110001],\n",
       "     [-79.874799893, 36.2522584290001],\n",
       "     [-79.9076262519999, 36.2535478450001],\n",
       "     [-79.946193993, 36.2546631820001],\n",
       "     [-79.9785708319999, 36.2555675830001],\n",
       "     [-79.9997684429999, 36.2561202890001],\n",
       "     [-80.0115625729999, 36.2564972230001],\n",
       "     [-80.035153615, 36.2571685120001],\n",
       "     [-80.031330655, 36.390426011],\n",
       "     [-80.029040331, 36.5001571930001],\n",
       "     [-80.027276429, 36.5425189810001],\n",
       "     [-79.9997700709999, 36.542460078],\n",
       "     [-79.907929662, 36.542737946],\n",
       "     [-79.808676282, 36.542327734],\n",
       "     [-79.7603528929999, 36.5421518690001],\n",
       "     [-79.71506421, 36.5418709680001],\n",
       "     [-79.6752291019999, 36.541623013],\n",
       "     [-79.672107578, 36.541569995],\n",
       "     [-79.66943858, 36.5415496310001],\n",
       "     [-79.6673132509999, 36.541778261],\n",
       "     [-79.666830308, 36.5417814570001],\n",
       "     [-79.625376612, 36.541743765],\n",
       "     [-79.625263177, 36.541607218],\n",
       "     [-79.624755265, 36.5414484560001],\n",
       "     [-79.624728729, 36.5415381280001],\n",
       "     [-79.6244448479999, 36.5413816060001],\n",
       "     [-79.6023683829999, 36.54136075],\n",
       "     [-79.564795551, 36.5408401110001],\n",
       "     [-79.510743679, 36.5408454880001],\n",
       "     [-79.516317943, 36.5001531],\n",
       "     [-79.517265051, 36.4903992210001],\n",
       "     [-79.5179089759999, 36.484812649],\n",
       "     [-79.518675795, 36.477646662],\n",
       "     [-79.519175117, 36.473342168],\n",
       "     [-79.520088061, 36.4642297250001],\n",
       "     [-79.5204499989999, 36.4591922230001],\n",
       "     [-79.5209067219999, 36.451475234],\n",
       "     [-79.521609844, 36.4383539410001],\n",
       "     [-79.5223093709999, 36.426217604],\n",
       "     [-79.522927055, 36.4125690590001],\n",
       "     [-79.524052854, 36.3930130860001],\n",
       "     [-79.5253920279999, 36.3692203740001],\n",
       "     [-79.526576001, 36.348312541],\n",
       "     [-79.5281560829999, 36.3200994580001],\n",
       "     [-79.5294330309999, 36.296626302],\n",
       "     [-79.530769918, 36.272442906],\n",
       "     [-79.532012278, 36.250068486],\n",
       "     [-79.532470222, 36.241411973]]]]}}"
      ]
     },
     "execution_count": 54,
     "metadata": {},
     "output_type": "execute_result"
    }
   ],
   "source": [
    "nc_counties['features'][0]"
   ]
  },
  {
   "cell_type": "code",
   "execution_count": 61,
   "metadata": {},
   "outputs": [
    {
     "name": "stderr",
     "output_type": "stream",
     "text": [
      "/Users/alexander.fioto/opt/anaconda3/lib/python3.7/site-packages/ipykernel_launcher.py:1: SettingWithCopyWarning:\n",
      "\n",
      "\n",
      "A value is trying to be set on a copy of a slice from a DataFrame.\n",
      "Try using .loc[row_indexer,col_indexer] = value instead\n",
      "\n",
      "See the caveats in the documentation: https://pandas.pydata.org/pandas-docs/stable/user_guide/indexing.html#returning-a-view-versus-a-copy\n",
      "\n"
     ]
    }
   ],
   "source": [
    "nc['county'] = nc['county'].apply(lambda x: x.upper())"
   ]
  },
  {
   "cell_type": "code",
   "execution_count": 62,
   "metadata": {},
   "outputs": [
    {
     "data": {
      "text/html": [
       "<div>\n",
       "<style scoped>\n",
       "    .dataframe tbody tr th:only-of-type {\n",
       "        vertical-align: middle;\n",
       "    }\n",
       "\n",
       "    .dataframe tbody tr th {\n",
       "        vertical-align: top;\n",
       "    }\n",
       "\n",
       "    .dataframe thead th {\n",
       "        text-align: right;\n",
       "    }\n",
       "</style>\n",
       "<table border=\"1\" class=\"dataframe\">\n",
       "  <thead>\n",
       "    <tr style=\"text-align: right;\">\n",
       "      <th></th>\n",
       "      <th>date</th>\n",
       "      <th>county</th>\n",
       "      <th>state</th>\n",
       "      <th>fips</th>\n",
       "      <th>cases</th>\n",
       "      <th>deaths</th>\n",
       "    </tr>\n",
       "  </thead>\n",
       "  <tbody>\n",
       "    <tr>\n",
       "      <th>483</th>\n",
       "      <td>2020-03-03</td>\n",
       "      <td>WAKE</td>\n",
       "      <td>North Carolina</td>\n",
       "      <td>37183</td>\n",
       "      <td>1</td>\n",
       "      <td>0</td>\n",
       "    </tr>\n",
       "    <tr>\n",
       "      <th>520</th>\n",
       "      <td>2020-03-04</td>\n",
       "      <td>WAKE</td>\n",
       "      <td>North Carolina</td>\n",
       "      <td>37183</td>\n",
       "      <td>1</td>\n",
       "      <td>0</td>\n",
       "    </tr>\n",
       "    <tr>\n",
       "      <th>567</th>\n",
       "      <td>2020-03-05</td>\n",
       "      <td>WAKE</td>\n",
       "      <td>North Carolina</td>\n",
       "      <td>37183</td>\n",
       "      <td>1</td>\n",
       "      <td>0</td>\n",
       "    </tr>\n",
       "    <tr>\n",
       "      <th>630</th>\n",
       "      <td>2020-03-06</td>\n",
       "      <td>CHATHAM</td>\n",
       "      <td>North Carolina</td>\n",
       "      <td>37037</td>\n",
       "      <td>1</td>\n",
       "      <td>0</td>\n",
       "    </tr>\n",
       "    <tr>\n",
       "      <th>631</th>\n",
       "      <td>2020-03-06</td>\n",
       "      <td>WAKE</td>\n",
       "      <td>North Carolina</td>\n",
       "      <td>37183</td>\n",
       "      <td>1</td>\n",
       "      <td>0</td>\n",
       "    </tr>\n",
       "  </tbody>\n",
       "</table>\n",
       "</div>"
      ],
      "text/plain": [
       "           date   county           state   fips  cases  deaths\n",
       "483  2020-03-03     WAKE  North Carolina  37183      1       0\n",
       "520  2020-03-04     WAKE  North Carolina  37183      1       0\n",
       "567  2020-03-05     WAKE  North Carolina  37183      1       0\n",
       "630  2020-03-06  CHATHAM  North Carolina  37037      1       0\n",
       "631  2020-03-06     WAKE  North Carolina  37183      1       0"
      ]
     },
     "execution_count": 62,
     "metadata": {},
     "output_type": "execute_result"
    }
   ],
   "source": [
    "nc.head()"
   ]
  },
  {
   "cell_type": "code",
   "execution_count": 65,
   "metadata": {},
   "outputs": [],
   "source": [
    "fig = px.choropleth(nc,\n",
    "              geojson=counties,\n",
    "              locations=\"fips\",               \n",
    "              color=\"cases\",\n",
    "              hover_name=\"county\",  \n",
    "              animation_frame=\"date\",    \n",
    "              color_continuous_scale='Plasma',\n",
    "              scope='usa',\n",
    "              height=600             \n",
    ")\n",
    "\n",
    "\n"
   ]
  },
  {
   "cell_type": "code",
   "execution_count": null,
   "metadata": {},
   "outputs": [],
   "source": [
    "#fig.write_html('nc_covid_map.html')"
   ]
  },
  {
   "cell_type": "code",
   "execution_count": null,
   "metadata": {},
   "outputs": [],
   "source": [
    "fig.update_geos(fitbounds='locations', visible=False )\n",
    "fig.update_layout(margin={\"r\":0,\"t\":0,\"l\":0,\"b\":0})\n",
    "fig.show()"
   ]
  },
  {
   "cell_type": "code",
   "execution_count": null,
   "metadata": {},
   "outputs": [],
   "source": []
  }
 ],
 "metadata": {
  "kernelspec": {
   "display_name": "Python 3",
   "language": "python",
   "name": "python3"
  },
  "language_info": {
   "codemirror_mode": {
    "name": "ipython",
    "version": 3
   },
   "file_extension": ".py",
   "mimetype": "text/x-python",
   "name": "python",
   "nbconvert_exporter": "python",
   "pygments_lexer": "ipython3",
   "version": "3.7.7"
  }
 },
 "nbformat": 4,
 "nbformat_minor": 4
}
